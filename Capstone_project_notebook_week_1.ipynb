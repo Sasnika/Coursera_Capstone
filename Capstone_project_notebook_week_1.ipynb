{
  "nbformat": 4,
  "nbformat_minor": 0,
  "metadata": {
    "colab": {
      "name": "Capstone project notebook week 1.ipynb",
      "provenance": [],
      "authorship_tag": "ABX9TyNQRCgGhfcakauDor8mbByx",
      "include_colab_link": true
    },
    "kernelspec": {
      "name": "python3",
      "display_name": "Python 3"
    }
  },
  "cells": [
    {
      "cell_type": "markdown",
      "metadata": {
        "id": "view-in-github",
        "colab_type": "text"
      },
      "source": [
        "<a href=\"https://colab.research.google.com/github/Sasnika/Coursera_Capstone/blob/main/Capstone_project_notebook_week_1.ipynb\" target=\"_parent\"><img src=\"https://colab.research.google.com/assets/colab-badge.svg\" alt=\"Open In Colab\"/></a>"
      ]
    },
    {
      "cell_type": "markdown",
      "metadata": {
        "id": "Ly5TcVo0zVuH"
      },
      "source": [
        "This is the first notebook of Applied Data Science Capstone Course for Peer-graded Assignment: Capstone Project Notebook Week 1"
      ]
    },
    {
      "cell_type": "code",
      "metadata": {
        "id": "nqOAqiu1y9NL"
      },
      "source": [
        "import numpy as np\n",
        "import pandas as pd"
      ],
      "execution_count": 1,
      "outputs": []
    },
    {
      "cell_type": "code",
      "metadata": {
        "id": "XHoVjZo3zGtZ",
        "outputId": "b2ae0fbb-f81b-42f4-ca6b-ccbc72a9a4bb",
        "colab": {
          "base_uri": "https://localhost:8080/",
          "height": 34
        }
      },
      "source": [
        "print(\"Hello Capstone Project Course!\")"
      ],
      "execution_count": 2,
      "outputs": [
        {
          "output_type": "stream",
          "text": [
            "Hello Capstone Project Course!\n"
          ],
          "name": "stdout"
        }
      ]
    },
    {
      "cell_type": "code",
      "metadata": {
        "id": "fReOxomBzLVw"
      },
      "source": [
        ""
      ],
      "execution_count": null,
      "outputs": []
    }
  ]
}