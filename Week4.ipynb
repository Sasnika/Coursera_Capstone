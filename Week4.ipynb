{
  "nbformat": 4,
  "nbformat_minor": 0,
  "metadata": {
    "colab": {
      "name": "Week4.ipynb",
      "provenance": [],
      "collapsed_sections": [],
      "authorship_tag": "ABX9TyNsCDgTlyVKZQRTAFLqSVAf",
      "include_colab_link": true
    },
    "kernelspec": {
      "name": "python3",
      "display_name": "Python 3"
    }
  },
  "cells": [
    {
      "cell_type": "markdown",
      "metadata": {
        "id": "view-in-github",
        "colab_type": "text"
      },
      "source": [
        "<a href=\"https://colab.research.google.com/github/Sasnika/Coursera_Capstone/blob/master/Week4.ipynb\" target=\"_parent\"><img src=\"https://colab.research.google.com/assets/colab-badge.svg\" alt=\"Open In Colab\"/></a>"
      ]
    },
    {
      "cell_type": "markdown",
      "metadata": {
        "id": "poJ3SJnYfNtd"
      },
      "source": [
        "**The battle of Neighborhoods**\n",
        "\n",
        "Week 4 : Part a\n",
        "\n",
        "**Title : Opening a new shopping mall in Bangalore, India**\n",
        "\n",
        "**Problem background :**\n",
        "\n",
        "Bangalore is the capital and largest city of the Indian state of Karnataka.Visiting shopping malls is a great way for people to relax and enjoy themselves during weekends and holidays.Shopping malls tend to be a major tourist attraction. The mall are often more convenient, for a tourist, to possess one central location to try to do all their shopping; instead of driving many miles just to buy different types of products for their personal needs. They can do grocery shopping, dine at restaurants, try various fashion outlets, watch movies and perform more activities.\n",
        "\n",
        "Shopping malls are sort of a one-stop destination for all kinds of shoppers. For retailers, the central location and therefore the large crowd at the shopping malls provides an excellent channel to advertise their products and services. Property developers also are taking advantage of this trend to create more shopping malls to cater to the demand. As a result, there are many shopping malls in the city of Bangalore and many more are being built. Opening shopping malls allows property developers to earn consistent income . Of\n",
        "course, like any business decision, opening a replacement mall requires serious consideration and may be a lot more complicated than it seems. Particularly, the location of the mall is one among the foremost important factor which will determine whether the mall is going to be a hit or a failure. \n",
        "\n",
        "**Business Problem :**\n",
        "\n",
        "The objective of this capstone project is to analyse and select the best locations in the city of Bangalore,India to open a new shopping mall. Using data science methodology and machine learning techniques like clustering, this project aims to provide solutions to answer the business question: In the city of Bangalore,India, if a property developer is looking to open a new\n",
        "shopping mall, where would you recommend that they open it?\n",
        "\n",
        "**Target Audience :**\n",
        "\n",
        "This project is particularly useful to property developers and investors looking to open or invest in new shopping malls in the capital city of Karnataka state, Bangalore. Since shopping centres are the most sought-after shopping destinations,and with so many benefits to shoppers as well as businessmen,shopping centres will only rise in popularity with time. Shoppers prefer shopping centres/malls to stand-alone shops for various reasons,main reason being a fun filled experience.And retailers can have the shop in a prime location with a minimal investment since shopping malls are usually located in prime locations which are easily accessible.\n",
        "\n",
        "**Data :**\n",
        "\n",
        "To solve the problem, we will need the following data:\n",
        "• List of neighbourhoods in Bangalore. \n",
        "• Latitude and longitude coordinates of those neighbourhoods. This is required in order to plot the map and also to get the venue data.\n",
        "• Venue data, particularly data related to shopping malls. We will be using this data to perform clustering on the neighbourhoods.\n",
        "\n",
        "Sources of data and methods to extract them :\n",
        "\n",
        "This Wikipedia page (https://en.wikipedia.org/wiki/List_of_neighbourhoods_in_Bangalore) contains a\n",
        "list of neighbourhoods in Bangalore, with a total of 65 neighbourhoods. We will use web scraping techniques to extract the data from the Wikipedia page, with the help of Python requests. Then we will get the geographical coordinates of the neighbourhoods using Python Geocoder package which will give us the latitude and longitude coordinates of the neighbourhoods. After that, we will use Foursquare API to get the venue data for those neighbourhoods. \n",
        "\n",
        "Use of foursquare is focused to fetch nearest venue locations so that we can use them to form a cluster. Foursquare api leverages the power of finding nearest venues in a specified radius and also corresponding coordinates,venue location and names.Our interest lies in the Shopping Mall category in order to help us to solve the business problem put forward. This  project makes use of data science skills, from web scraping (Wikipedia), working with API (Foursquare), data cleaning, data wrangling,to machine learning (K-means clustering) and map visualization (Folium). "
      ]
    },
    {
      "cell_type": "code",
      "metadata": {
        "id": "Wg7-ES8ifKYQ"
      },
      "source": [
        ""
      ],
      "execution_count": null,
      "outputs": []
    }
  ]
}